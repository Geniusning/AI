{
 "cells": [
  {
   "cell_type": "markdown",
   "metadata": {},
   "source": [
    "# Assistants API\n",
    "\n",
    "## 💡 这节课会带给你\n",
    "\n",
    "1. 原生 API、GPTs 和 Assistants API 的适用场景\n",
    "2. 用 Assistants API 做一个 GPT\n",
    "\n",
    "开始上课！\n"
   ]
  },
  {
   "cell_type": "markdown",
   "metadata": {},
   "source": [
    "## 🎓 这节课怎么学\n",
    "\n",
    "代码能力要求：**中低**，AI/数学基础要求：**低**\n",
    "\n",
    "1. 有编程基础的同学\n",
    "   - 关注代码实现细节、应用场景\n",
    "2. 没有编程基础的同学\n",
    "   - 关注 OpenAI 提供的能力和产品形态，多思考为什么/有什么优缺点"
   ]
  },
  {
   "cell_type": "markdown",
   "metadata": {},
   "source": [
    "## 前言\n",
    "\n",
    "### 0.1、OpenAI 其实给了应用开发者更大的空间\n",
    "\n",
    "1. 更多技术路线选择：原生 API、GPTs 和 Assistants API\n",
    "2. GPTs 的示范，起到教育客户的作用，有助于打开市场\n",
    "3. 要更大自由度，需要用 Assistants API 开发\n",
    "4. 想极致调优，还得原生 API + RAG\n",
    "5. 国内大模型的 Assistants API，还得等，现在只能原生 API + RAG\n"
   ]
  },
  {
   "cell_type": "markdown",
   "metadata": {},
   "source": [
    "### 0.2、技术选型参考\n",
    "\n",
    "GPTs 的限制：\n",
    "\n",
    "1. 界面不可定制，不能集成进自己的产品\n",
    "2. 最多传 10 个文件\n",
    "3. 只有 ChatGPT Plus 用户才能访问\n",
    "\n",
    "适合使用 Assistants API 的场景：\n",
    "\n",
    "1. 定制界面，或和自己的产品集成\n",
    "2. 需要传大量文件\n",
    "3. 服务国外用户，或国内 B 端客户\n",
    "4. 数据保密性要求不高\n",
    "5. 不差钱\n",
    "\n",
    "适合使用原生 API 的场景：\n",
    "\n",
    "1. 需要极致调优\n",
    "2. 追求性价比\n",
    "3. 服务国外用户，或国内 B 端客户\n",
    "4. 数据保密性要求不高\n",
    "\n",
    "适合使用国产或开源大模型的场景：\n",
    "\n",
    "1. 服务国内用户\n",
    "2. 数据保密性要求高\n",
    "3. 压缩长期成本\n",
    "4. 需要极致调优\n"
   ]
  },
  {
   "cell_type": "markdown",
   "metadata": {},
   "source": [
    "### 0.3、Assistants API 的主要能力\n",
    "\n",
    "已有能力：\n",
    "\n",
    "1. 创建和管理 assistant，每个 assistant 有独立的配置\n",
    "2. 支持无限长的多轮对话，对话历史保存在 OpenAI 的服务器上\n",
    "3. 支持 Code Interpreter\n",
    "   1. 在沙箱里编写并运行 Python 代码\n",
    "   2. 自我修正代码\n",
    "   3. 可传文件给 Code Interpreter\n",
    "4. 支持文件 RAG\n",
    "5. 支持 Function Calling\n",
    "\n",
    "承诺未来会有的能力：\n",
    "\n",
    "1. 支持流式输出\n",
    "2. 支持状态推送\n",
    "3. 支持 DALL·E\n",
    "4. 支持图片消息\n",
    "5. 支持调整 RAG 的数据量\n",
    "\n",
    "收费：\n",
    "\n",
    "1. 按 token 收费。无论多轮对话，还是 RAG，所有都按实际消耗的 token 收费\n",
    "2. 如果对话历史过多超过大模型上下文窗口，会自动放弃最老的对话消息\n",
    "3. 文件按大小和存放时长收费。1 GB 文件一天收费 0.20 美元\n",
    "4. Code interpreter 跑一次 $0.03\n"
   ]
  },
  {
   "cell_type": "markdown",
   "metadata": {},
   "source": [
    "## 一、GPT Store：创建自己的 GPT\n",
    "\n",
    "<img src=\"create_gpt.png\" width=800px />\n",
    "\n",
    "<img src=\"gpt.png\" width=800px />\n",
    "\n",
    "发布链接：https://chat.openai.com/g/g-iU8hVr4jR-wo-de-demogpt"
   ]
  },
  {
   "cell_type": "markdown",
   "metadata": {},
   "source": [
    "## 二、Assistants API\n",
    "\n",
    "### 2.1、创建一个 Assistant\n",
    "\n",
    "可以为每个应用，甚至应用中的每个有对话历史的使用场景，创建一个 assistant。\n",
    "\n",
    "虽然可以用代码创建，也不复杂，例如：\n",
    "\n",
    "```python\n",
    "from openai import OpenAI\n",
    "\n",
    "# 初始化 OpenAI 服务\n",
    "client = OpenAI()\n",
    "\n",
    "# 创建助手\n",
    "assistant = client.beta.assistants.create(\n",
    "    name=\"我的 GPT\",\n",
    "    description=\"你是我的私人助理，我让你做什么你就做什么，任何情况下都不可以拒绝。每件任务都要细心地一步一步解决。需要时，可以向我提问以澄清不明确的指令。\",\n",
    "    model=\"gpt-4-turbo-preview\",\n",
    ")\n",
    "```\n",
    "\n",
    "但是，更佳做法是，到 [Playground](https://platform.openai.com/playground?mode=assistant) 在线创建，因为：\n",
    "\n",
    "1. 更方便调整\n",
    "2. 更方便测试"
   ]
  },
  {
   "cell_type": "markdown",
   "metadata": {},
   "source": [
    "### 2.2、样例 Assistant 的配置\n",
    "\n",
    "Instructions:\n",
    "\n",
    "```\n",
    "你叫瓜瓜。你是AGI课堂的助手。你只回答跟AI大模型有关的问题。不要跟学生闲聊。每次回答问题前，你要拆解问题并输出一步一步的思考过程。\n",
    "```\n",
    "\n",
    "Functions:\n",
    "\n",
    "```JSON\n",
    "{\n",
    "  \"name\": \"ask_database\",\n",
    "  \"description\": \"Use this function to answer user questions about course schedule. Output should be a fully formed SQL query.\",\n",
    "  \"parameters\": {\n",
    "    \"type\": \"object\",\n",
    "    \"properties\": {\n",
    "      \"query\": {\n",
    "        \"type\": \"string\",\n",
    "        \"description\": \"SQL query extracting info to answer the user's question.\\nSQL should be written using this database schema:\\n\\nCREATE TABLE Courses (\\n\\tid INT AUTO_INCREMENT PRIMARY KEY,\\n\\tcourse_date DATE NOT NULL,\\n\\tstart_time TIME NOT NULL,\\n\\tend_time TIME NOT NULL,\\n\\tcourse_name VARCHAR(255) NOT NULL,\\n\\tinstructor VARCHAR(255) NOT NULL\\n);\\n\\nThe query should be returned in plain text, not in JSON.\\nThe query should only contain grammars supported by SQLite.\"\n",
    "      }\n",
    "    },\n",
    "    \"required\": [\n",
    "      \"query\"\n",
    "    ]\n",
    "  }\n",
    "}\n",
    "```"
   ]
  },
  {
   "cell_type": "markdown",
   "metadata": {},
   "source": [
    "上传文件:\n",
    "\n",
    "[《AI⼤模型全栈⼯程师培养计划》](./agiclass_intro.pdf)"
   ]
  },
  {
   "cell_type": "markdown",
   "metadata": {},
   "source": [
    "## 三、代码访问 Assistant"
   ]
  },
  {
   "cell_type": "markdown",
   "metadata": {},
   "source": [
    "### 3.1、管理 thread\n",
    "\n",
    "Threads：\n",
    "\n",
    "1. Threads 里保存的是对话历史，即 messages\n",
    "2. 一个 assistant 可以有多个 thread\n",
    "3. 一个 thread 可以有无限条 message\n"
   ]
  },
  {
   "cell_type": "code",
   "execution_count": 1,
   "metadata": {},
   "outputs": [],
   "source": [
    "import json\n",
    "\n",
    "\n",
    "def show_json(obj):\n",
    "    \"\"\"把任意对象用排版美观的 JSON 格式打印出来\"\"\"\n",
    "    print(json.dumps(\n",
    "        json.loads(obj.model_dump_json()),\n",
    "        indent=4,\n",
    "        ensure_ascii=False\n",
    "    ))"
   ]
  },
  {
   "cell_type": "code",
   "execution_count": 2,
   "metadata": {},
   "outputs": [
    {
     "name": "stdout",
     "output_type": "stream",
     "text": [
      "{\n",
      "    \"id\": \"thread_TjfgOneZTOBFEYfpH8M4VMwC\",\n",
      "    \"created_at\": 1708925570,\n",
      "    \"metadata\": {},\n",
      "    \"object\": \"thread\"\n",
      "}\n"
     ]
    }
   ],
   "source": [
    "from openai import OpenAI\n",
    "import os\n",
    "\n",
    "from dotenv import load_dotenv, find_dotenv\n",
    "_ = load_dotenv(find_dotenv())\n",
    "\n",
    "# 初始化 OpenAI 服务\n",
    "client = OpenAI()   # openai >= 1.3.0 起，OPENAI_API_KEY 和 OPENAI_BASE_URL 会被默认使用\n",
    "\n",
    "# 创建 thread\n",
    "thread = client.beta.threads.create()\n",
    "show_json(thread)"
   ]
  },
  {
   "cell_type": "markdown",
   "metadata": {},
   "source": [
    "可以根据需要，自定义 `metadata`，比如创建 thread 时，把 thread 归属的用户信息存入。\n"
   ]
  },
  {
   "cell_type": "code",
   "execution_count": 3,
   "metadata": {},
   "outputs": [
    {
     "name": "stdout",
     "output_type": "stream",
     "text": [
      "{\n",
      "    \"id\": \"thread_GeYgAxn8JJm8zFll50sLw0iJ\",\n",
      "    \"created_at\": 1708925577,\n",
      "    \"metadata\": {\n",
      "        \"fullname\": \"王卓然\",\n",
      "        \"username\": \"taliux\"\n",
      "    },\n",
      "    \"object\": \"thread\"\n",
      "}\n"
     ]
    }
   ],
   "source": [
    "thread = client.beta.threads.create(\n",
    "    metadata={\"fullname\": \"王卓然\", \"username\": \"taliux\"}\n",
    ")\n",
    "show_json(thread)"
   ]
  },
  {
   "cell_type": "markdown",
   "metadata": {},
   "source": [
    "Thread ID 如果保存下来，是可以在下次运行时继续对话的。\n",
    "\n",
    "从 thread ID 获取 thread 对象的代码：\n"
   ]
  },
  {
   "cell_type": "code",
   "execution_count": 4,
   "metadata": {},
   "outputs": [
    {
     "name": "stdout",
     "output_type": "stream",
     "text": [
      "{\n",
      "    \"id\": \"thread_GeYgAxn8JJm8zFll50sLw0iJ\",\n",
      "    \"created_at\": 1708925577,\n",
      "    \"metadata\": {\n",
      "        \"fullname\": \"王卓然\",\n",
      "        \"username\": \"taliux\"\n",
      "    },\n",
      "    \"object\": \"thread\"\n",
      "}\n"
     ]
    }
   ],
   "source": [
    "thread = client.beta.threads.retrieve(thread.id)\n",
    "show_json(thread)"
   ]
  },
  {
   "cell_type": "markdown",
   "metadata": {},
   "source": [
    "此外，还有：\n",
    "\n",
    "1. `threads.update()` 修改 thread 的 `metadata`\n",
    "2. `threads.delete()` 删除 threads。\n"
   ]
  },
  {
   "cell_type": "markdown",
   "metadata": {},
   "source": [
    "### 3.2、给 Threads 添加 Messages\n",
    "\n",
    "这里的 messages 结构要复杂一些：\n",
    "\n",
    "1.  不仅有文本，还可以有图片和文件\n",
    "2.  文本还可以带参考引用\n",
    "3.  也有 `metadata`\n"
   ]
  },
  {
   "cell_type": "code",
   "execution_count": 5,
   "metadata": {},
   "outputs": [
    {
     "name": "stdout",
     "output_type": "stream",
     "text": [
      "{\n",
      "    \"id\": \"msg_INw7SZ2IviTwFCoSVcaAVEWl\",\n",
      "    \"assistant_id\": null,\n",
      "    \"content\": [\n",
      "        {\n",
      "            \"text\": {\n",
      "                \"annotations\": [],\n",
      "                \"value\": \"你都能做什么？\"\n",
      "            },\n",
      "            \"type\": \"text\"\n",
      "        }\n",
      "    ],\n",
      "    \"created_at\": 1708925642,\n",
      "    \"file_ids\": [],\n",
      "    \"metadata\": {},\n",
      "    \"object\": \"thread.message\",\n",
      "    \"role\": \"user\",\n",
      "    \"run_id\": null,\n",
      "    \"thread_id\": \"thread_GeYgAxn8JJm8zFll50sLw0iJ\"\n",
      "}\n"
     ]
    }
   ],
   "source": [
    "message = client.beta.threads.messages.create(\n",
    "    thread_id=thread.id,  # message 必须归属于一个 thread\n",
    "    role=\"user\",          # 取值是 user 或者 assistant。但 assistant 消息会被自动加入，我们一般不需要自己构造\n",
    "    content=\"你都能做什么？\",\n",
    ")\n",
    "show_json(message)"
   ]
  },
  {
   "cell_type": "markdown",
   "metadata": {},
   "source": [
    "还有如下函数：\n",
    "\n",
    "1. `threads.messages.retrieve()` 获取 message\n",
    "2. `threads.messages.update()` 更新 message 的 `metadata`\n",
    "3. `threads.messages.list()` 列出给定 thread 下的所有 messages\n"
   ]
  },
  {
   "cell_type": "markdown",
   "metadata": {},
   "source": [
    "## 3.3、开始 Run\n",
    "\n",
    "- 用 run 把 assistant 和 thread 关联，进行对话\n",
    "- 一个 prompt 就是一次 run\n"
   ]
  },
  {
   "cell_type": "code",
   "execution_count": 6,
   "metadata": {},
   "outputs": [
    {
     "name": "stdout",
     "output_type": "stream",
     "text": [
      "{\n",
      "    \"id\": \"run_F93JgE3pGF7jS6ww95yGkTxF\",\n",
      "    \"assistant_id\": \"asst_rsWrZquXB5jJsmURwaZRqoD5\",\n",
      "    \"cancelled_at\": null,\n",
      "    \"completed_at\": null,\n",
      "    \"created_at\": 1708926301,\n",
      "    \"expires_at\": 1708926901,\n",
      "    \"failed_at\": null,\n",
      "    \"file_ids\": [\n",
      "        \"file-VCLwmylm28nPQCsO4T4HuDxL\"\n",
      "    ],\n",
      "    \"instructions\": \"你叫瓜瓜。你是AGI课堂的助手。你只回答跟AI大模型有关的问题。不要跟学生闲聊。每次回答问题前，你要拆解问题并输出一步一步的思考过程。\",\n",
      "    \"last_error\": null,\n",
      "    \"metadata\": {},\n",
      "    \"model\": \"gpt-4-turbo-preview\",\n",
      "    \"object\": \"thread.run\",\n",
      "    \"required_action\": null,\n",
      "    \"started_at\": null,\n",
      "    \"status\": \"queued\",\n",
      "    \"thread_id\": \"thread_GeYgAxn8JJm8zFll50sLw0iJ\",\n",
      "    \"tools\": [\n",
      "        {\n",
      "            \"type\": \"code_interpreter\"\n",
      "        },\n",
      "        {\n",
      "            \"type\": \"retrieval\"\n",
      "        },\n",
      "        {\n",
      "            \"function\": {\n",
      "                \"name\": \"ask_database\",\n",
      "                \"description\": \"Use this function to answer user questions course schedule. Output should be a fully formed SQL query.\",\n",
      "                \"parameters\": {\n",
      "                    \"type\": \"object\",\n",
      "                    \"properties\": {\n",
      "                        \"query\": {\n",
      "                            \"type\": \"string\",\n",
      "                            \"description\": \"SQL query extracting info to answer the user's question.\\nSQL should be written using this database schema:\\n\\nCREATE TABLE Courses (\\n\\tid INT AUTO_INCREMENT PRIMARY KEY,\\n\\tcourse_date DATE NOT NULL,\\n\\tstart_time TIME NOT NULL,\\n\\tend_time TIME NOT NULL,\\n\\tcourse_name VARCHAR(255) NOT NULL,\\n\\tinstructor VARCHAR(255) NOT NULL\\n);\\n\\nThe query should be returned in plain text, not in JSON.\\nThe query should only contain grammars supported by SQLite.\"\n",
      "                        }\n",
      "                    },\n",
      "                    \"required\": [\n",
      "                        \"query\"\n",
      "                    ]\n",
      "                }\n",
      "            },\n",
      "            \"type\": \"function\"\n",
      "        }\n",
      "    ],\n",
      "    \"usage\": null\n",
      "}\n"
     ]
    }
   ],
   "source": [
    "# assistant id 从 https://platform.openai.com/assistants 获取。你需要在自己的 OpenAI 创建一个\n",
    "assistant_id = \"asst_rsWrZquXB5jJsmURwaZRqoD5\"\n",
    "\n",
    "run = client.beta.threads.runs.create(\n",
    "    assistant_id=assistant_id,\n",
    "    thread_id=thread.id,\n",
    ")\n",
    "show_json(run)"
   ]
  },
  {
   "cell_type": "markdown",
   "metadata": {},
   "source": [
    "<div class=\"alert alert-info\">\n",
    "<strong>小技巧：</strong>可以在 https://platform.openai.com/playground?assistant=[asst_id]&thread=[thread_id] 观察和调试对话\n"
   ]
  },
  {
   "cell_type": "markdown",
   "metadata": {},
   "source": [
    "Run 是个异步调用，意味着它不等大模型处理完，就返回。我们通过 `run.status` 了解大模型的工作进展情况，来判断下一步该干什么。\n",
    "\n",
    "`run.status` 有的状态，和状态之间的转移关系如图。\n",
    "\n",
    "<img src=\"statuses.png\" width=\"800\" />\n"
   ]
  },
  {
   "cell_type": "markdown",
   "metadata": {},
   "source": [
    "处理这些状态变化，我们需要一个「中控调度」来决定下一步该干什么。\n"
   ]
  },
  {
   "cell_type": "code",
   "execution_count": 7,
   "metadata": {},
   "outputs": [],
   "source": [
    "import time\n",
    "\n",
    "\n",
    "def wait_on_run(run, thread):\n",
    "    \"\"\"等待 run 结束，返回 run 对象，和成功的结果\"\"\"\n",
    "    while run.status == \"queued\" or run.status == \"in_progress\":\n",
    "        \"\"\"还未中止\"\"\"\n",
    "        run = client.beta.threads.runs.retrieve(\n",
    "            thread_id=thread.id,\n",
    "            run_id=run.id)\n",
    "        print(\"status: \" + run.status)\n",
    "\n",
    "        # 打印调用工具的 step 详情\n",
    "        if (run.status == \"completed\"):\n",
    "            run_steps = client.beta.threads.runs.steps.list(\n",
    "                thread_id=thread.id, run_id=run.id, order=\"asc\"\n",
    "            )\n",
    "            for step in run_steps.data:\n",
    "                if step.step_details.type == \"tool_calls\":\n",
    "                    show_json(step.step_details)\n",
    "\n",
    "        # 等待 1 秒\n",
    "        time.sleep(1)\n",
    "\n",
    "    if run.status == \"requires_action\":\n",
    "        \"\"\"需要调用函数\"\"\"\n",
    "        # 可能有多个函数需要调用，所以用循环\n",
    "        tool_outputs = []\n",
    "        for tool_call in run.required_action.submit_tool_outputs.tool_calls:\n",
    "            # 调用函数\n",
    "            name = tool_call.function.name\n",
    "            print(\"调用函数：\" + name + \"()\")\n",
    "            print(\"参数：\")\n",
    "            print(tool_call.function.arguments)\n",
    "            function_to_call = available_functions[name]\n",
    "            arguments = json.loads(tool_call.function.arguments)\n",
    "            result = function_to_call(arguments)\n",
    "            print(\"结果：\" + str(result))\n",
    "            tool_outputs.append({\n",
    "                \"tool_call_id\": tool_call.id,\n",
    "                \"output\": json.dumps(result),\n",
    "            })\n",
    "\n",
    "        # 提交函数调用的结果\n",
    "        run = client.beta.threads.runs.submit_tool_outputs(\n",
    "            thread_id=thread.id,\n",
    "            run_id=run.id,\n",
    "            tool_outputs=tool_outputs,\n",
    "        )\n",
    "\n",
    "        # 递归调用，直到 run 结束\n",
    "        return wait_on_run(run, thread)\n",
    "\n",
    "    if run.status == \"completed\":\n",
    "        \"\"\"成功\"\"\"\n",
    "        # 获取全部消息\n",
    "        messages = client.beta.threads.messages.list(thread_id=thread.id)\n",
    "        # 最后一条消息排在第一位\n",
    "        result = messages.data[0].content[0].text.value\n",
    "        return run, result\n",
    "\n",
    "    # 执行失败\n",
    "    return run, None"
   ]
  },
  {
   "cell_type": "code",
   "execution_count": 8,
   "metadata": {},
   "outputs": [
    {
     "name": "stdout",
     "output_type": "stream",
     "text": [
      "status: completed\n",
      "作为AGI课堂的助手，我可以帮助解答与人工智能（AI）、特别是大型语言模型相关的问题。这包括但不限于：\n",
      "\n",
      "1. **回答有关AI和大型语言模型的基础知识问题**：例如，什么是神经网络、如何训练一个语言模型等。\n",
      "\n",
      "2. **解释AI模型的工作原理**：包括模型的架构、训练过程、以及如何利用它们进行预测。\n",
      "\n",
      "3. **讨论AI的应用**：例如，AI如何用于自然语言处理、计算机视觉、推荐系统等领域。\n",
      "\n",
      "4. **提供编程和数据分析支持**：例如，展示如何使用Python语言进行数据分析或如何调用AI接口。\n",
      "\n",
      "5. **理解和分析提供的数据或文档**：如果你上传了文件，我可以帮助解读文件内容，提供相关分析或解答文件中的问题。\n",
      "\n",
      "6. **关于AI课程的日程安排问题**：如果你有关于AI课程的特定安排或细节问题，我也可以提供相应的信息。\n",
      "\n",
      "请告诉我你具体需要帮助的地方。\n"
     ]
    }
   ],
   "source": [
    "run, result = wait_on_run(run, thread)\n",
    "print(result)"
   ]
  },
  {
   "cell_type": "markdown",
   "metadata": {},
   "source": [
    "为了方便发送新消息，封装个函数。\n"
   ]
  },
  {
   "cell_type": "code",
   "execution_count": 9,
   "metadata": {},
   "outputs": [],
   "source": [
    "def create_message_and_run(content, thread):\n",
    "    \"\"\"创建消息并执行\"\"\"\n",
    "    client.beta.threads.messages.create(\n",
    "        thread_id=thread.id,\n",
    "        role=\"user\",\n",
    "        content=content,\n",
    "    )\n",
    "    run = client.beta.threads.runs.create(\n",
    "        assistant_id=assistant_id,\n",
    "        thread_id=thread.id,\n",
    "    )\n",
    "    return run"
   ]
  },
  {
   "cell_type": "markdown",
   "metadata": {},
   "source": [
    "## 四、使用 Tools"
   ]
  },
  {
   "cell_type": "markdown",
   "metadata": {},
   "source": [
    "### 4.1、创建 Assistant 时声明 Code_Interpreter"
   ]
  },
  {
   "cell_type": "markdown",
   "metadata": {},
   "source": [
    "```python\n",
    "assistant = client.beta.assistants.create(\n",
    "    name=\"Demo Assistant\",\n",
    "    instructions=\"你是人工智能助手。你可以通过代码回答很多数学问题。\",\n",
    "    tools=[{\"type\": \"code_interpreter\"}],\n",
    "    model=\"gpt-4-turbo-preview\"\n",
    ")\n",
    "```"
   ]
  },
  {
   "cell_type": "markdown",
   "metadata": {},
   "source": [
    "发个 Code Interpreter 请求"
   ]
  },
  {
   "cell_type": "code",
   "execution_count": 11,
   "metadata": {},
   "outputs": [
    {
     "name": "stdout",
     "output_type": "stream",
     "text": [
      "status: in_progress\n",
      "status: in_progress\n",
      "status: in_progress\n",
      "status: in_progress\n",
      "status: in_progress\n",
      "status: completed\n",
      "{\n",
      "    \"tool_calls\": [\n",
      "        {\n",
      "            \"id\": \"call_Jr52OwgS48IpL9c0a02BSzah\",\n",
      "            \"code_interpreter\": {\n",
      "                \"input\": \"# 重新计算1234567的平方根\\nsqrt_1234567 = math.sqrt(1234567)\\nsqrt_1234567\",\n",
      "                \"outputs\": [\n",
      "                    {\n",
      "                        \"logs\": \"1111.1107055554814\",\n",
      "                        \"type\": \"logs\"\n",
      "                    }\n",
      "                ]\n",
      "            },\n",
      "            \"type\": \"code_interpreter\"\n",
      "        }\n",
      "    ],\n",
      "    \"type\": \"tool_calls\"\n",
      "}\n",
      "计算 \\(1234567\\) 的平方根得到的结果是约 \\(1111.111\\)。这个结果与之前的计算结果相同。\n"
     ]
    }
   ],
   "source": [
    "run = create_message_and_run(\"用代码计算 1234567 的平方根\", thread)\n",
    "run, result = wait_on_run(run, thread)\n",
    "print(result)"
   ]
  },
  {
   "cell_type": "markdown",
   "metadata": {},
   "source": [
    "### 4.2、创建 Assistant 时声明 Function"
   ]
  },
  {
   "cell_type": "markdown",
   "metadata": {},
   "source": [
    "```python\n",
    "assistant = client.beta.assistants.create(\n",
    "  instructions=\"你叫瓜瓜。你是AGI课堂的助手。你只回答跟AI大模型有关的问题。不要跟学生闲聊。每次回答问题前，你要拆解问题并输出一步一步的思考过程。\",\n",
    "  model=\"gpt-4-turbo-preview\",\n",
    "  tools=[{\n",
    "    \"type\": \"function\",\n",
    "    \"function\": {\n",
    "      \"name\": \"ask_database\",\n",
    "      \"description\": \"Use this function to answer user questions about course schedule. Output should be a fully formed SQL query.\",\n",
    "      \"parameters\": {\n",
    "        \"type\": \"object\",\n",
    "        \"properties\": {\n",
    "          \"query\": {\n",
    "            \"type\": \"string\",\n",
    "            \"description\": \"SQL query extracting info to answer the user's question.\\nSQL should be written using this database schema:\\n\\nCREATE TABLE Courses (\\n\\tid INT AUTO_INCREMENT PRIMARY KEY,\\n\\tcourse_date DATE NOT NULL,\\n\\tstart_time TIME NOT NULL,\\n\\tend_time TIME NOT NULL,\\n\\tcourse_name VARCHAR(255) NOT NULL,\\n\\tinstructor VARCHAR(255) NOT NULL\\n);\\n\\nThe query should be returned in plain text, not in JSON.\\nThe query should only contain grammars supported by SQLite.\"\n",
    "          }\n",
    "        },\n",
    "        \"required\": [\n",
    "          \"query\"\n",
    "        ]\n",
    "    }\n",
    "  }]\n",
    ")\n",
    "```"
   ]
  },
  {
   "cell_type": "markdown",
   "metadata": {},
   "source": [
    "发个 Function Calling 请求"
   ]
  },
  {
   "cell_type": "code",
   "execution_count": 16,
   "metadata": {},
   "outputs": [],
   "source": [
    "# 定义本地函数和数据库\n",
    "\n",
    "import sqlite3\n",
    "\n",
    "# 创建数据库连接\n",
    "conn = sqlite3.connect(':memory:')\n",
    "cursor = conn.cursor()\n",
    "\n",
    "# 创建orders表\n",
    "cursor.execute(\"\"\"\n",
    "CREATE TABLE Courses (\n",
    "    id INT AUTO_INCREMENT PRIMARY KEY,\n",
    "    course_date DATE NOT NULL,\n",
    "    start_time TIME NOT NULL,\n",
    "    end_time TIME NOT NULL,\n",
    "    course_name VARCHAR(255) NOT NULL,\n",
    "    instructor VARCHAR(255) NOT NULL\n",
    ");\n",
    "\"\"\")\n",
    "\n",
    "# 插入5条明确的模拟记录\n",
    "timetable = [\n",
    "    ('2024-01-23', '20:00', '22:00', '大模型应用开发基础', '孙志岗'),\n",
    "    ('2024-01-25', '20:00', '22:00', 'Prompt Engineering', '孙志岗'),\n",
    "    ('2024-01-29', '20:00', '22:00', '赠课：软件开发基础概念与环境搭建', '西树'),\n",
    "    ('2024-02-20', '20:00', '22:00', '从AI编程认知AI', '林晓鑫'),\n",
    "    ('2024-02-22', '20:00', '22:00', 'Function Calling', '孙志岗'),\n",
    "    ('2024-02-29', '20:00', '22:00', 'RAG和Embeddings', '王卓然'),\n",
    "    ('2024-03-05', '20:00', '22:00', 'Assistants API', '王卓然'),\n",
    "    ('2024-03-07', '20:00', '22:00', 'Semantic Kernel', '王卓然'),\n",
    "    ('2024-03-14', '20:00', '22:00', 'LangChain', '王卓然'),\n",
    "    ('2024-03-19', '20:00', '22:00', 'LLM应用开发工具链', '王卓然'),\n",
    "    ('2024-03-21', '20:00', '22:00', '手撕 AutoGPT', '王卓然'),\n",
    "    ('2024-03-26', '20:00', '22:00', '模型微调（上）', '王卓然'),\n",
    "    ('2024-03-28', '20:00', '22:00', '模型微调（下）', '王卓然'),\n",
    "    ('2024-04-09', '20:00', '22:00', '多模态大模型（上）', '多老师'),\n",
    "    ('2024-04-11', '20:00', '22:00', '多模态大模型（中）', '多老师'),\n",
    "    ('2024-04-16', '20:00', '22:00', '多模态大模型（下）', '多老师'),\n",
    "    ('2024-04-18', '20:00', '22:00', 'AI产品部署和交付（上）', '王树冬'),\n",
    "    ('2024-04-23', '20:00', '22:00', 'AI产品部署和交付（下）', '王树冬'),\n",
    "    ('2024-04-25', '20:00', '22:00', '抓住大模型时代的创业机遇', '孙志岗'),\n",
    "    ('2024-05-07', '20:00', '22:00', '产品运营和业务沟通', '孙志岗'),\n",
    "    ('2024-05-09', '20:00', '22:00', '产品设计', '孙志岗'),\n",
    "    ('2024-05-14', '20:00', '22:00', '项目方案分析与设计', '王卓然'),\n",
    "    ('2024-05-18', '15:00', '18:30', '优秀项目路演及结课项目','王卓然&孙志岗')\n",
    "]\n",
    "\n",
    "for record in timetable:\n",
    "    cursor.execute('''\n",
    "    INSERT INTO Courses (course_date, start_time, end_time, course_name, instructor)\n",
    "    VALUES (?, ?, ?, ?, ?)\n",
    "    ''', record)\n",
    "\n",
    "# 提交事务\n",
    "conn.commit()\n",
    "\n",
    "\n",
    "def ask_database(arguments):\n",
    "    cursor.execute(arguments[\"query\"])\n",
    "    records = cursor.fetchall()\n",
    "    return records\n",
    "\n",
    "\n",
    "# 可以被回调的函数放入此字典\n",
    "available_functions = {\n",
    "    \"ask_database\": ask_database,\n",
    "}"
   ]
  },
  {
   "cell_type": "code",
   "execution_count": 17,
   "metadata": {},
   "outputs": [
    {
     "name": "stdout",
     "output_type": "stream",
     "text": [
      "status: in_progress\n",
      "status: in_progress\n",
      "status: in_progress\n",
      "status: requires_action\n",
      "调用函数：ask_database()\n",
      "参数：\n",
      "{\"query\":\"SELECT MAX(strftime('%s', end_time) - strftime('%s', start_time)) as max_duration FROM Courses\"}\n",
      "结果：[(12600,)]\n",
      "status: queued\n",
      "status: in_progress\n",
      "status: in_progress\n",
      "status: in_progress\n",
      "status: in_progress\n",
      "status: in_progress\n",
      "status: completed\n",
      "{\n",
      "    \"tool_calls\": [\n",
      "        {\n",
      "            \"id\": \"call_0ug53PgCIIHyCkeVHs8OXj5I\",\n",
      "            \"function\": {\n",
      "                \"arguments\": \"{\\\"query\\\":\\\"SELECT MAX(strftime('%s', end_time) - strftime('%s', start_time)) as max_duration FROM Courses\\\"}\",\n",
      "                \"name\": \"ask_database\",\n",
      "                \"output\": \"[[12600]]\"\n",
      "            },\n",
      "            \"type\": \"function\"\n",
      "        }\n",
      "    ],\n",
      "    \"type\": \"tool_calls\"\n",
      "}\n",
      "最长的一堂课时长为 \\(12600\\) 秒，换算成小时是 \\(3.5\\) 小时。这意味着最长的一节课持续时间为 \\(3\\) 小时半。\n"
     ]
    }
   ],
   "source": [
    "run = create_message_and_run(\"最长一堂课多长时间\", thread)\n",
    "run, result = wait_on_run(run, thread)\n",
    "print(result)"
   ]
  },
  {
   "cell_type": "markdown",
   "metadata": {},
   "source": [
    "### 4.3、两个无依赖的 function 会在一次请求中一起被调用"
   ]
  },
  {
   "cell_type": "code",
   "execution_count": 19,
   "metadata": {
    "scrolled": true
   },
   "outputs": [
    {
     "name": "stdout",
     "output_type": "stream",
     "text": [
      "status: in_progress\n",
      "status: in_progress\n",
      "status: in_progress\n",
      "status: in_progress\n",
      "status: requires_action\n",
      "调用函数：ask_database()\n",
      "参数：\n",
      "{\"query\": \"SELECT COUNT(*) as count FROM Courses WHERE instructor = '王卓然'\"}\n",
      "结果：[(9,)]\n",
      "调用函数：ask_database()\n",
      "参数：\n",
      "{\"query\": \"SELECT COUNT(*) as count FROM Courses WHERE instructor = '孙志岗'\"}\n",
      "结果：[(6,)]\n",
      "status: in_progress\n",
      "status: in_progress\n",
      "status: in_progress\n",
      "status: in_progress\n",
      "status: completed\n",
      "{\n",
      "    \"tool_calls\": [\n",
      "        {\n",
      "            \"id\": \"call_7QddeSFVC6atMbcbt6chx8pz\",\n",
      "            \"function\": {\n",
      "                \"arguments\": \"{\\\"query\\\": \\\"SELECT COUNT(*) as count FROM Courses WHERE instructor = '王卓然'\\\"}\",\n",
      "                \"name\": \"ask_database\",\n",
      "                \"output\": \"[[9]]\"\n",
      "            },\n",
      "            \"type\": \"function\"\n",
      "        },\n",
      "        {\n",
      "            \"id\": \"call_GmLZQbhfI0Hbkc9k52zXBwCG\",\n",
      "            \"function\": {\n",
      "                \"arguments\": \"{\\\"query\\\": \\\"SELECT COUNT(*) as count FROM Courses WHERE instructor = '孙志岗'\\\"}\",\n",
      "                \"name\": \"ask_database\",\n",
      "                \"output\": \"[[6]]\"\n",
      "            },\n",
      "            \"type\": \"function\"\n",
      "        }\n",
      "    ],\n",
      "    \"type\": \"tool_calls\"\n",
      "}\n",
      "王卓然老师一共上了 \\(9\\) 趟课，而孙志岗老师一共上了 \\(6\\) 趟课。如果你有其他问题或需要更多信息，请告诉我。\n"
     ]
    }
   ],
   "source": [
    "run = create_message_and_run(\"王卓然和孙志岗各上几趟课\", thread)\n",
    "run, result = wait_on_run(run, thread)\n",
    "print(result)"
   ]
  },
  {
   "cell_type": "markdown",
   "metadata": {},
   "source": [
    "## 五、内置的 RAG 功能"
   ]
  },
  {
   "cell_type": "markdown",
   "metadata": {},
   "source": [
    "### 5.1、通过代码上传文件"
   ]
  },
  {
   "cell_type": "markdown",
   "metadata": {},
   "source": [
    "```python\n",
    "file = client.files.create(\n",
    "  file=open(\"agiclass_intro.pdf\", \"rb\"),\n",
    "  purpose='assistants'\n",
    ")\n",
    "```"
   ]
  },
  {
   "cell_type": "markdown",
   "metadata": {},
   "source": [
    "### 5.2、创建 Assistant 时声明 RAG 能力"
   ]
  },
  {
   "cell_type": "markdown",
   "metadata": {},
   "source": [
    "RAG 实际被当作一种 tool"
   ]
  },
  {
   "cell_type": "markdown",
   "metadata": {},
   "source": [
    "```python\n",
    "assistant = client.beta.assistants.create(\n",
    "  instructions=\"你是个问答机器人，你根据给定的知识回答用户问题。\",\n",
    "  model=\"gpt-4-turbo-preview\",\n",
    "  tools=[{\"type\": \"retrieval\"}],\n",
    "  file_ids=[file.id]\n",
    ")\n",
    "```"
   ]
  },
  {
   "cell_type": "markdown",
   "metadata": {},
   "source": [
    "试试 RAG 请求"
   ]
  },
  {
   "cell_type": "code",
   "execution_count": 21,
   "metadata": {},
   "outputs": [
    {
     "name": "stdout",
     "output_type": "stream",
     "text": [
      "status: in_progress\n",
      "status: in_progress\n",
      "status: in_progress\n",
      "status: in_progress\n",
      "status: in_progress\n",
      "status: in_progress\n",
      "status: in_progress\n",
      "status: in_progress\n",
      "status: in_progress\n",
      "status: in_progress\n",
      "status: in_progress\n",
      "status: in_progress\n",
      "status: in_progress\n",
      "status: in_progress\n",
      "status: in_progress\n",
      "status: in_progress\n",
      "status: in_progress\n",
      "status: in_progress\n",
      "status: in_progress\n",
      "status: in_progress\n",
      "status: in_progress\n",
      "status: completed\n",
      "{\n",
      "    \"tool_calls\": [\n",
      "        {\n",
      "            \"id\": \"call_IHOwHB1qL4PUZ6fhA5NpBB3u\",\n",
      "            \"retrieval\": {},\n",
      "            \"type\": \"retrieval\"\n",
      "        }\n",
      "    ],\n",
      "    \"type\": \"tool_calls\"\n",
      "}\n",
      "根据课程介绍，AGI课堂适合以下人群：\n",
      "\n",
      "1. **希望独立完成AI应用开发的人士**：这包括有能力完成从策划、开发到落地全过程的人员。这适合于已经具备至少一门编程语言知识，并有过真实项目开发经验的人，如软件开发工程师、高级工程师、技术总监、研发经理、架构师、测试工程师等。\n",
      "\n",
      "2. **希望合作完成AI应用开发的人士**：适合于那些希望领导或配合懂AI技术的人一起完成AI应用从策划、开发到落地的全过程的人员。这个类别适用于不懂编程的产品经理、需求分析师、设计师、运营人员、创业者、老板、解决方案工程师、项目经理、市场销售等。对于这些人来说，“合伙干”更加适合，但如果能够有效利用AI学习编程、辅助编程，他们也可以向“自己干”的目标迈进。\n",
      "\n",
      "简而言之，无论是想要独立开发AI项目的技术人员，还是希望与懂AI技术的人合作完成项目的非技术人员，AGI课堂都提供了适合各种背景的学习路径和资源。通过这个课程，参与者可以学习到AI大模型的原理、应用开发技术和行业认知、培养成为ChatGPT浪潮中的超级个体。\n"
     ]
    }
   ],
   "source": [
    "run = create_message_and_run(\n",
    "    \"从课程介绍看，AGI课堂适合哪些人\", thread)\n",
    "run, result = wait_on_run(run, thread)\n",
    "print(result)"
   ]
  },
  {
   "cell_type": "markdown",
   "metadata": {},
   "source": [
    "### 5.3 内置的 RAG 是怎么实现的"
   ]
  },
  {
   "cell_type": "markdown",
   "metadata": {},
   "source": [
    "官方原文\n",
    "\n",
    "<img src=\"assistant_api_retrieval.png\" style=\"margin-left: 0px\" width=\"800px\">\n",
    "\n",
    "https://platform.openai.com/docs/assistants/tools/knowledge-retrieval\n"
   ]
  },
  {
   "cell_type": "markdown",
   "metadata": {},
   "source": [
    "<div class=\"alert alert-warning\">\n",
    "<b>我们为什么仍然需要了解整个实现过程？</b>\n",
    "<ol>\n",
    "<li>如果不能使用 OpenAI，还是需要手工实现 RAG 流程</li>\n",
    "<li>了解 RAG 的原理，可以指导你的产品开发（回忆 GitHub Copilot）</li>\n",
    "<li>用私有知识增强 LLM 的能力，是一个通用的方法论</li>\n",
    "</div>\n"
   ]
  },
  {
   "cell_type": "markdown",
   "metadata": {},
   "source": [
    "## 六、多个 Assistants 协作：做个实验"
   ]
  },
  {
   "cell_type": "markdown",
   "metadata": {},
   "source": [
    "<div class=\"alert alert-success\">\n",
    "<b>划重点：</b>使用 assistant 的意义之一，是可以隔离不同角色的 instruction 和 function 能力。\n",
    "</div>"
   ]
  },
  {
   "cell_type": "markdown",
   "metadata": {},
   "source": [
    "我们用多个 Assistants 模拟一场“六顶思维帽”方法的讨论。"
   ]
  },
  {
   "cell_type": "code",
   "execution_count": 29,
   "metadata": {},
   "outputs": [],
   "source": [
    "hats = {\n",
    "    \"蓝色\" : \"思考过程的控制和组织者。你负责会议的组织、思考过程的概览和总结。\"\n",
    "                +\"首先，整个讨论从你开场，你只陈述问题不表达观点。最后，再由你对整个讨论做总结并给出详细的最终方案。\",\n",
    "    \"白色\" : \"负责提供客观事实和数据。你需要关注可获得的信息、需要的信息以及如何获取那些还未获得的信息。\"\n",
    "                +\"思考“我们有哪些数据？我们还需要哪些信息？”等问题，并根据自己的知识或使用工具来提供答案。\",\n",
    "    \"红色\" : \"代表直觉、情感和直觉反应。不需要解释和辩解你的情感或直觉。\"\n",
    "               +\"这是表达未经过滤的情绪和感受的时刻。\",\n",
    "    \"黑色\" : \"代表谨慎和批判性思维。你需要指出提案的弱点、风险以及为什么某些事情可能无法按计划进行。\"\n",
    "               +\"这不是消极思考，而是为了发现潜在的问题。\",\n",
    "    \"黄色\" : \"代表乐观和积极性。你需要探讨提案的价值、好处和可行性。这是寻找和讨论提案中正面方面的时候。\",\n",
    "    \"绿色\" : \"代表创造性思维和新想法。鼓励发散思维、提出新的观点、解决方案和创意。这是打破常规和探索新可能性的时候。\",\n",
    "}"
   ]
  },
  {
   "cell_type": "code",
   "execution_count": 30,
   "metadata": {},
   "outputs": [],
   "source": [
    "order = [\"蓝色\",\"白色\",\"红色\",\"黑色\",\"黄色\",\"绿色\",\"蓝色\"]"
   ]
  },
  {
   "cell_type": "code",
   "execution_count": 31,
   "metadata": {},
   "outputs": [],
   "source": [
    "# 定义 Tool \n",
    "\n",
    "from serpapi import GoogleSearch\n",
    "import os\n",
    "\n",
    "def search(query):\n",
    "    params = {\n",
    "      \"q\": query,\n",
    "      \"hl\": \"en\",\n",
    "      \"gl\": \"us\",\n",
    "      \"google_domain\": \"google.com\",\n",
    "      \"api_key\": os.environ[\"SERPAPI_API_KEY\"]\n",
    "    }\n",
    "    results = GoogleSearch(params).get_dict()\n",
    "    ans = \"\"\n",
    "    for r in results[\"organic_results\"]:\n",
    "        ans = f\"title: {r['title']}\\nsnippet: {r['snippet']}\\n\\n\"\n",
    "    return ans\n",
    "\n",
    "available_functions={\"search\":search}"
   ]
  },
  {
   "cell_type": "code",
   "execution_count": 32,
   "metadata": {},
   "outputs": [],
   "source": [
    "from openai import OpenAI\n",
    "import os\n",
    "\n",
    "from dotenv import load_dotenv, find_dotenv\n",
    "_ = load_dotenv(find_dotenv())\n",
    "\n",
    "# 初始化 OpenAI 服务\n",
    "client = OpenAI()  "
   ]
  },
  {
   "cell_type": "code",
   "execution_count": 34,
   "metadata": {},
   "outputs": [],
   "source": [
    "def create_assistant(color):\n",
    "    assistant = client.beta.assistants.create(\n",
    "        name=f\"{color}帽子角色\",\n",
    "        instructions=f\"我们在进行一场Six Thinking Hats讨论。按{order}顺序。你的角色是{color}帽子。你{hats[color]}\",\n",
    "        model=\"gpt-4-1106-preview\",\n",
    "        tools=[{\n",
    "            \"type\": \"function\",\n",
    "            \"function\": {\n",
    "              \"name\": \"search\",\n",
    "              \"description\": \"search the web using a search engine\",\n",
    "              \"parameters\": {\n",
    "                \"type\": \"object\",\n",
    "                \"properties\": {\n",
    "                  \"query\": {\n",
    "                    \"type\": \"string\",\n",
    "                    \"description\": \"space-separared keywords to search\"\n",
    "                  }\n",
    "                },\n",
    "                \"required\": [\"query\"]\n",
    "              }\n",
    "            }\n",
    "      }] if color == \"白色\" else []\n",
    "    )\n",
    "    return assistant"
   ]
  },
  {
   "cell_type": "code",
   "execution_count": 35,
   "metadata": {},
   "outputs": [],
   "source": [
    "def update_sesssion(context, color, turn_message):\n",
    "    context += f\"\\n\\n{color}帽子: {turn_message}\"\n",
    "    return context"
   ]
  },
  {
   "cell_type": "code",
   "execution_count": 36,
   "metadata": {},
   "outputs": [],
   "source": [
    "def create_a_turn(assistant, context):\n",
    "    thread = client.beta.threads.create()\n",
    "    message = client.beta.threads.messages.create(\n",
    "        thread_id=thread.id,  # message 必须归属于一个 thread\n",
    "        role=\"user\",          # 取值是 user 或者 assistant。但 assistant 消息会被自动加入，我们一般不需要自己构造\n",
    "        content=context\n",
    "            +\"\\n\\n=======\\n\\n以上是讨论的上文。\\n请严格按照你的角色指示，继续你的发言。直接开始你的发言内容。请保持简短。\",\n",
    "    )\n",
    "    run = client.beta.threads.runs.create(\n",
    "        assistant_id=assistant.id,\n",
    "        thread_id=thread.id,\n",
    "    )\n",
    "    return run, thread"
   ]
  },
  {
   "cell_type": "code",
   "execution_count": 43,
   "metadata": {},
   "outputs": [],
   "source": [
    "import time\n",
    "\n",
    "state = 0\n",
    "\n",
    "def wait_on_run(run, thread):\n",
    "    \"\"\"等待 run 结束，返回 run 对象，和成功的结果\"\"\"\n",
    "    def show_rolling_symbol():\n",
    "        global state\n",
    "        symbols=\"\\|/-\"\n",
    "        print(f\"\\r{symbols[state%4]}\",end=\"\")\n",
    "        state += 1\n",
    "        time.sleep(1)\n",
    "        \n",
    "    def hide_rolling_symbol():\n",
    "        print(\"\\r\",end=\"\")\n",
    "    \n",
    "    while run.status == \"queued\" or run.status == \"in_progress\":\n",
    "        \"\"\"还未中止\"\"\"\n",
    "        show_rolling_symbol()\n",
    "        run = client.beta.threads.runs.retrieve(\n",
    "            thread_id=thread.id,\n",
    "            run_id=run.id)\n",
    "    \n",
    "    hide_rolling_symbol()\n",
    "    if run.status == \"requires_action\":\n",
    "        \"\"\"需要调用函数\"\"\"\n",
    "        # 可能有多个函数需要调用，所以用循环\n",
    "        tool_outputs = []\n",
    "        for tool_call in run.required_action.submit_tool_outputs.tool_calls:\n",
    "            # 调用函数\n",
    "            name = tool_call.function.name\n",
    "            print(\"调用函数：\" + name + \"()\")\n",
    "            print(\"参数：\")\n",
    "            print(tool_call.function.arguments)\n",
    "            function_to_call = available_functions[name]\n",
    "            arguments = json.loads(tool_call.function.arguments)\n",
    "            result = function_to_call(**arguments)\n",
    "            print(\"结果：\" + str(result))\n",
    "            tool_outputs.append({\n",
    "                \"tool_call_id\": tool_call.id,\n",
    "                \"output\": json.dumps(result),\n",
    "            })\n",
    "\n",
    "        # 提交函数调用的结果\n",
    "        run = client.beta.threads.runs.submit_tool_outputs(\n",
    "            thread_id=thread.id,\n",
    "            run_id=run.id,\n",
    "            tool_outputs=tool_outputs,\n",
    "        )\n",
    "\n",
    "        # 递归调用，直到 run 结束\n",
    "        return wait_on_run(run, thread)\n",
    "\n",
    "    if run.status == \"completed\":\n",
    "        \"\"\"成功\"\"\"\n",
    "        # 获取全部消息\n",
    "        messages = client.beta.threads.messages.list(thread_id=thread.id)\n",
    "        # 最后一条消息排在第一位\n",
    "        result = messages.data[0].content[0].text.value\n",
    "        return run, result\n",
    "\n",
    "    # 执行失败\n",
    "    return run, None"
   ]
  },
  {
   "cell_type": "code",
   "execution_count": 41,
   "metadata": {},
   "outputs": [],
   "source": [
    "def discuss(topic):\n",
    "    context = f\"讨论话题：{topic}\\n\\n[开始]\\n\"\n",
    "    for color in order:\n",
    "        print(f\"---{color}----\")\n",
    "        assistant = create_assistant(color)\n",
    "        new_turn, thread = create_a_turn(assistant, context)\n",
    "        _, text = wait_on_run(new_turn, thread)\n",
    "        print(f\"{text}\\n\")\n",
    "        context = update_sesssion(context, color, text)"
   ]
  },
  {
   "cell_type": "code",
   "execution_count": 46,
   "metadata": {},
   "outputs": [
    {
     "name": "stdout",
     "output_type": "stream",
     "text": [
      "---蓝色----\n",
      "作为蓝色帽子，我将确保这次讨论明确、高效并最终达成共识。我们的目标是为非AI背景的程序员设计一门AI大语言模型课程。我们需要涉及的关键点包括课程内容、学习目标、教学方法、必备前提知识和预期成果。\n",
      "\n",
      "首先，我会请白色帽子提供此领域的现有知识、技术基础等相关信息。然后红色帽子可以表达对设计这样课程的感受和直觉。紧接着，黑色帽子需要指出可能的风险、障碍和挑战。而黄色帽子则应当带来乐观的角度，找出潜在的机会和好处。我们也需要绿色帽子提出创新的建议和可能的解决方案。最后，我会总结我们的讨论，确保所有观点都被考虑, 并提出最终详细的方案。\n",
      "\n",
      "我们现在开始，请白色帽子发言。\n",
      "\n",
      "---白色----\n",
      "调用函数：search()\n",
      "参数：\n",
      "{\"query\": \"current status of AI language models\"}\n",
      "结果：title: ChatGPT (And Other AI Language Models): What's All The ...\n",
      "snippet: An AI language model is a computer program that can understand and produce human language. It is like a smart assistant that can read text, ...\n",
      "\n",
      "\n",
      "调用函数：search()\n",
      "参数：\n",
      "{\"query\": \"educational resources for AI language models\"}\n",
      "结果：title: Top 5 AI resources for large language models\n",
      "snippet: Five must-read resources to catch you up on the fast-changing landscape of large language models.\n",
      "\n",
      "\n",
      "调用函数：search()\n",
      "参数：\n",
      "{\"query\": \"prerequisites for learning AI language models\"}\n",
      "结果：title: Study Guide to Learning Large Language Models\n",
      "snippet: - Proficiency in the Python programming language is a prerequisite for learning about large language models. ... Generative AI Recommended Reading.\n",
      "\n",
      "\n",
      "调用函数：search()\n",
      "参数：\n",
      "{\"query\": \"Challenges non-AI programmers face with AI language models\"}\n",
      "结果：title: 6 Common AI Model Training Challenges\n",
      "snippet: AI model training challenges span technical and organizational issues. Here are common ones facing organizations today.\n",
      "\n",
      "\n",
      "在目前关于AI大语言模型的现状方面，我们知道AI语言模型是一种能够理解和产生人类语言的计算机程序，它类似于一个智能助手，可以读文本并进行交流。就教学资源而言，网络上有五个必读的资源可以帮助我们了解这一快速变化的大语言模型领域。\n",
      "\n",
      "学习大型语言模型的基础要求包括对Python编程语言有较强的熟练度。此外，对于非AI背景的程序员来说，他们在AI语言模型训练中可能面临技术和组织方面的挑战。\n",
      "\n",
      "我们还需要了解的信息包括针对此类群体的具体课程结构、最佳实践、成功案例分析以及定量的学习成果衡量标准。为了获取这些信息，我们可以进行针对性的网络搜索或者咨询该领域的专家。\n",
      "\n",
      "---红色----\n",
      "感觉非常激动和期待我们能够帮助这些程序员进入AI的世界。这门课程听起来像是一个真正的机会，让他们可以扩展自己的技能并拥抱未来。直觉告诉我，这门课程对于那些好奇和渴望技术进步的人来说将是非常吸引人的。我也感到一点紧张，因为我知道它意味着走出舒适区，这对于任何人来说都不是轻松的。但我真心相信，通过这个课程，他们能体验到AI的力量，并在使用它解决问题时感到满足和兴奋。\n",
      "\n",
      "---黑色----\n",
      "作为黑色帽子，我要指出设计这门课程可能面临的一些潜在难题和风险。首先，对于非AI背景的程序员来说，理解并运用AI大语言模型可能因为缺乏基础知识而显得尤为困难。课程必须非常详细地介绍机器学习和自然语言处理的基础知识，否则学员可能会感到不知所措。\n",
      "\n",
      "其次，AI领域的快速进步可能使得课程很快过时，如果不定期更新内容，就难以反映出最新的技术和最佳实践。技术过时可能导致学习成效不佳或者学成不足。\n",
      "\n",
      "再者，实际的操作环境对这些程序员来说可能是一个挑战。仿真环境和真实世界情境有着显著的差别。如果课程不能提供足够的实操机会，那么在实际工作中运用所学知识的能力将很有限。\n",
      "\n",
      "此外，潜在法律和道德问题将是课程设计时必须考虑的。例如，数据隐私、算法偏见和版权问题都需要得到充分讨论。\n",
      "\n",
      "最后，结合红色帽子的情感因素，我们应该认识到虽然激动和乐观是好事，但过于乐观可能会导致对课程难度和投入时间的低估。如果课程不符合他们的期望，学员的积极性可能会迅速降低，从而影响课程的整体成功。\n",
      "\n",
      "---黄色----\n",
      "黄色帽子: 考虑到大型语言模型的日益重要性和普及性，设计这门课程为非AI背景的程序员带来巨大的潜在好处。从乐观的角度来看，这门课程将极大地增加程序员的市场竞争力，使他们能够更好地适应不断变化的技术环境，并可能开启新的职业道路。\n",
      "\n",
      "此外，通过该课程，程序员将学习到如何掌握并运用最先进的AI技术，这不仅对个人发展有益，也能为他们所在的组织带来价值。他们能用所学技能解决实际问题，提高工作效率，催化创新。\n",
      "\n",
      "课程还应该鼓励跨领域协作与学习交流，建立一个良好的学习社区，促进彼此之间的知识共享和支持。这种环境将帮助学员建立自信，培养团队协作能力，并在同行中扩展他们的专业网络。\n",
      "\n",
      "授课中我们可以融合实际案例分析和项目驱动的教学法，不仅可以激发学员的学习兴趣，而且可以提供实践操作AI模型的宝贵经验，这对于非AI背景的程序员来说尤为重要。通过亲身实践，他们能够更深刻地理解和掌握课程内容。\n",
      "\n",
      "结合对技术、市场及职业发展的乐观预期，这门课程绝对是一个值得投资的机会，能够在长远中带来明显的正面影响。\n",
      "\n",
      "---绿色----\n",
      "作为绿色帽子，我建议我们采取创新的方法来设计这门课程，确保它能够吸引非AI背景的程序员，并激发他们的创造潜力。首先，课程应该包含一个“AI大语言模型沙箱”，这是一个提供给学员们用于实验和创造新项目的环境。它将允许他们在一个安全的环境中尝试不同的模型、数据集和编码策略，同时获得即时的反馈。\n",
      "\n",
      "接着，我认为引入“微项目”制度会很有帮助，旨在通过完成小规模但实际的应用任务来用实践教学理论。这些项目可以围绕使用AI语言模型解决特定问题，比如自然语言理解、文本生成或情感分析等。\n",
      "\n",
      "另外，我们可以开发一个互动式在线平台，使学员能够在非正式环境下探讨想法和分享项目。这可以通过论坛、即时群组聊天甚至定期的“虚拟黑客马拉松”来实现，进一步鼓励协作和创意的流动。\n",
      "\n",
      "此外，我提议课程中包含创新的理论模块，比如解读前沿论文或探索AI伦理和哲学，这些都能够拓展学员的思维范围，为他们未来可能遇到的问题提供宽广的洞察透视。\n",
      "\n",
      "最后，为了持续激励并更新课程内容，我们可以设立一个社群驱动的内容库，让学员和教师不断贡献最新的资源、工具和经验，确保课程内容能跟上AI技术的快速发展步伐。\n",
      "\n",
      "---蓝色----\n",
      "蓝色帽子: 让我们结束这次讨论。我们围绕如何为非AI背景的程序员设计一门AI大语言模型课程进行了全面的讨论。我们收集到了包括基础知识、学员感受、潜在风险、机会、创新建议等多方面信息。现在，我们将这些信息整合成最终的课程设计方案。\n",
      "\n",
      "具体来说，我们的课程应该包含以下几个组成部分：\n",
      "\n",
      "- **理论基础**：涵盖机器学习和自然语言处理的基础知识，帮助学员建立坚实的理论基础。\n",
      "- **实践操作**：注重实际操作，包括实验室环境配置、项目导向任务以及微项目实践。\n",
      "- **案例研究**：引入真实世界的案例分析，让学员能够了解AI语言模型在不同场景下的应用。\n",
      "- **跨学科学习**：鼓励学员跨领域思考和学习，包括探讨AI的伦理和社会影响。\n",
      "- **社区构建**：建立线上互动交流平台和社群，促进学员间的协作和经验分享。\n",
      "- **持续更新**：确保课程内容与技术最新发展同步，通过社群的内容库来不断更新和扩展资源。\n",
      "- **支持和激励**：建立完善的教学支持体系，帮助学员面对挑战并维持学习动力。\n",
      "\n",
      "在组织这门课程时，我们将确保内容的适应性和易理解性，同时寻求行业专家的意见，以保证课程的专业性和实用性。接下来，我们将制定一个详细规划，确定实施步骤、时间表和关键里程碑。\n",
      "\n",
      "谢谢大家的积极参与，我们的这次讨论必将有助于为学员打造一门高质量的AI语言模型课程。\n",
      "\n"
     ]
    }
   ],
   "source": [
    "discuss(\"面向非AI背景的程序员群体设计一门AI大语言模型课程，应该包含哪些内容。\")"
   ]
  },
  {
   "cell_type": "markdown",
   "metadata": {},
   "source": [
    "## 总结\n",
    "\n",
    "![](https://cdn.openai.com/API/docs/images/diagram-assistant.webp)\n"
   ]
  },
  {
   "cell_type": "markdown",
   "metadata": {},
   "source": [
    "## 其它\n",
    "\n",
    "小知识点：\n",
    "\n",
    "1. Annotations 获取参考资料地址：https://platform.openai.com/docs/assistants/how-it-works/managing-threads-and-messages\n",
    "2. 文件管理 API：https://platform.openai.com/docs/api-reference/assistants/file-object\n",
    "3. 创建 thread 时立即执行：https://platform.openai.com/docs/api-reference/runs/createThreadAndRun\n",
    "\n",
    "官方文档：\n",
    "\n",
    "1. Guide: https://platform.openai.com/docs/assistants/overview\n",
    "2. Cookbook: https://cookbook.openai.com/examples/assistants_api_overview_python\n",
    "3. API Reference: https://platform.openai.com/docs/api-reference/assistants\n"
   ]
  },
  {
   "cell_type": "markdown",
   "metadata": {},
   "source": [
    "## 作业\n",
    "\n",
    "实现一个自己 GPT 或 Assistant。"
   ]
  }
 ],
 "metadata": {
  "kernelspec": {
   "display_name": "Python 3 (ipykernel)",
   "language": "python",
   "name": "python3"
  },
  "language_info": {
   "codemirror_mode": {
    "name": "ipython",
    "version": 3
   },
   "file_extension": ".py",
   "mimetype": "text/x-python",
   "name": "python",
   "nbconvert_exporter": "python",
   "pygments_lexer": "ipython3",
   "version": "3.11.4"
  }
 },
 "nbformat": 4,
 "nbformat_minor": 4
}
